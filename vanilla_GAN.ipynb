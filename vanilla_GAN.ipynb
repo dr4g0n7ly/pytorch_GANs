{
  "nbformat": 4,
  "nbformat_minor": 0,
  "metadata": {
    "colab": {
      "provenance": [],
      "authorship_tag": "ABX9TyOhHjFxEYVOFMnMZ92nnzuW"
    },
    "kernelspec": {
      "name": "python3",
      "display_name": "Python 3"
    },
    "language_info": {
      "name": "python"
    }
  },
  "cells": [
    {
      "cell_type": "markdown",
      "source": [
        "# Imports"
      ],
      "metadata": {
        "id": "diF-_u5UA0k2"
      }
    },
    {
      "cell_type": "code",
      "source": [
        "import os\n",
        "import re\n",
        "import time\n",
        "import enum\n",
        "\n",
        "\n",
        "import cv2 as cv\n",
        "import numpy as np\n",
        "import matplotlib.pyplot as plt\n",
        "# import git\n",
        "\n",
        "\n",
        "import torch\n",
        "from torch import nn\n",
        "from torch.optim import Adam\n",
        "from torchvision import transforms, datasets\n",
        "from torchvision.utils import make_grid, save_image\n",
        "from torch.utils.data import DataLoader\n",
        "from torch.utils.tensorboard import SummaryWriter"
      ],
      "metadata": {
        "id": "P8_ejnJlA2UD"
      },
      "execution_count": 2,
      "outputs": []
    },
    {
      "cell_type": "markdown",
      "source": [
        "# FS set up"
      ],
      "metadata": {
        "id": "O0PD7CklBN1b"
      }
    },
    {
      "cell_type": "code",
      "source": [
        "BINARIES_PATH = os.path.join(os.getcwd(), 'models', 'binaries')\n",
        "CHECKPOINTS_PATH = os.path.join(os.getcwd(), 'models', 'checkpooints')\n",
        "DATA_DIR_PATH = os.path.join(os.getcwd(), 'data')\n",
        "DEBUG_IMAGERY_PATH = os.path.join(DATA_DIR_PATH, 'data')"
      ],
      "metadata": {
        "id": "oNJhM71LA9h3"
      },
      "execution_count": 3,
      "outputs": []
    },
    {
      "cell_type": "markdown",
      "source": [
        "# Data import and preprocessing"
      ],
      "metadata": {
        "id": "tnHpxzR2Cxbi"
      }
    },
    {
      "cell_type": "code",
      "source": [
        "batch_size = 64\n",
        "\n",
        "# pytorch data transforms pipeline to normalize img to tensors of range [-1, 1]\n",
        "transform = transforms.Compose([\n",
        "    transforms.ToTensor(),\n",
        "    transforms.Normalize((.5,), (.5,))\n",
        "])\n",
        "\n",
        "# downloading the MNIST dataset\n",
        "mnist_dataset = datasets.MNIST(root=DATA_DIR_PATH, train=True, download=True, transform=transform)\n",
        "\n",
        "# set up data loader (wrapper class that loads images in batches)\n",
        "mnist_data_loader = DataLoader(mnist_dataset, batch_size=batch_size, shuffle=True, drop_last=True)"
      ],
      "metadata": {
        "colab": {
          "base_uri": "https://localhost:8080/"
        },
        "id": "QpaomErHCfcg",
        "outputId": "ccf6063f-00ee-4c0c-93d9-3156d6595a5b"
      },
      "execution_count": 12,
      "outputs": [
        {
          "output_type": "stream",
          "name": "stdout",
          "text": [
            "Downloading http://yann.lecun.com/exdb/mnist/train-images-idx3-ubyte.gz\n",
            "Downloading http://yann.lecun.com/exdb/mnist/train-images-idx3-ubyte.gz to /content/data/MNIST/raw/train-images-idx3-ubyte.gz\n"
          ]
        },
        {
          "output_type": "stream",
          "name": "stderr",
          "text": [
            "100%|██████████| 9912422/9912422 [00:00<00:00, 329589288.78it/s]"
          ]
        },
        {
          "output_type": "stream",
          "name": "stdout",
          "text": [
            "Extracting /content/data/MNIST/raw/train-images-idx3-ubyte.gz to /content/data/MNIST/raw\n"
          ]
        },
        {
          "output_type": "stream",
          "name": "stderr",
          "text": [
            "\n"
          ]
        },
        {
          "output_type": "stream",
          "name": "stdout",
          "text": [
            "\n",
            "Downloading http://yann.lecun.com/exdb/mnist/train-labels-idx1-ubyte.gz\n",
            "Downloading http://yann.lecun.com/exdb/mnist/train-labels-idx1-ubyte.gz to /content/data/MNIST/raw/train-labels-idx1-ubyte.gz\n"
          ]
        },
        {
          "output_type": "stream",
          "name": "stderr",
          "text": [
            "100%|██████████| 28881/28881 [00:00<00:00, 102570443.54it/s]\n"
          ]
        },
        {
          "output_type": "stream",
          "name": "stdout",
          "text": [
            "Extracting /content/data/MNIST/raw/train-labels-idx1-ubyte.gz to /content/data/MNIST/raw\n",
            "\n",
            "Downloading http://yann.lecun.com/exdb/mnist/t10k-images-idx3-ubyte.gz\n",
            "Downloading http://yann.lecun.com/exdb/mnist/t10k-images-idx3-ubyte.gz to /content/data/MNIST/raw/t10k-images-idx3-ubyte.gz\n"
          ]
        },
        {
          "output_type": "stream",
          "name": "stderr",
          "text": [
            "100%|██████████| 1648877/1648877 [00:00<00:00, 134362204.63it/s]"
          ]
        },
        {
          "output_type": "stream",
          "name": "stdout",
          "text": [
            "Extracting /content/data/MNIST/raw/t10k-images-idx3-ubyte.gz to /content/data/MNIST/raw\n",
            "\n",
            "Downloading http://yann.lecun.com/exdb/mnist/t10k-labels-idx1-ubyte.gz\n",
            "Downloading http://yann.lecun.com/exdb/mnist/t10k-labels-idx1-ubyte.gz to /content/data/MNIST/raw/t10k-labels-idx1-ubyte.gz\n"
          ]
        },
        {
          "output_type": "stream",
          "name": "stderr",
          "text": [
            "\n",
            "100%|██████████| 4542/4542 [00:00<00:00, 7441612.80it/s]\n"
          ]
        },
        {
          "output_type": "stream",
          "name": "stdout",
          "text": [
            "Extracting /content/data/MNIST/raw/t10k-labels-idx1-ubyte.gz to /content/data/MNIST/raw\n",
            "\n"
          ]
        }
      ]
    },
    {
      "cell_type": "markdown",
      "source": [
        "# Data analysis"
      ],
      "metadata": {
        "id": "4bcvflSnIQbn"
      }
    },
    {
      "cell_type": "code",
      "source": [
        "print(f'Data set size: {len(mnist_dataset)} images')\n",
        "\n",
        "num_imgs_viz = 25\n",
        "batch = next(iter(mnist_data_loader))\n",
        "img_batch = batch[0]    # batch[0] = images, batch[1] = labels\n",
        "img_batch_subset = img_batch[:num_imgs_viz]\n",
        "\n",
        "# shape format [0] = L, [1] = C, [2] = H, [3] = W\n",
        "print(f'Image shape: {img_batch_subset.shape[2:]}')\n",
        "print(f'Image channels: {img_batch_subset.shape[1]}')\n",
        "\n",
        "# displaying sample images\n",
        "grid = make_grid(img_batch_subset, nrow=int(np.sqrt(num_imgs_viz)), normalize=True, pad_value=1.)\n",
        "grid = np.moveaxis(grid.numpy(), 0, 2)    # covert img format from CHW -> HWC (matpltlib format)\n",
        "plt.figure(figsize=(6,6))\n",
        "plt.imshow(grid)\n",
        "plt.show()"
      ],
      "metadata": {
        "colab": {
          "base_uri": "https://localhost:8080/",
          "height": 578
        },
        "id": "jcYeJDEfFxZx",
        "outputId": "c8896b6b-7e13-4ae0-ef9c-08665b7e7e09"
      },
      "execution_count": 15,
      "outputs": [
        {
          "output_type": "stream",
          "name": "stdout",
          "text": [
            "Data set size: 60000 images\n",
            "Image shape: torch.Size([28, 28])\n",
            "Image channels: 1\n"
          ]
        },
        {
          "output_type": "display_data",
          "data": {
            "text/plain": [
              "<Figure size 600x600 with 1 Axes>"
            ],
            "image/png": "[encoded data removed]"
          },
          "metadata": {}
        }
      ]
    },
    {
      "cell_type": "code",
      "source": [
        "MNIST_IMG_SIZE = 28"
      ],
      "metadata": {
        "id": "WcLjacL2Jt19"
      },
      "execution_count": null,
      "outputs": []
    }
  ]
}